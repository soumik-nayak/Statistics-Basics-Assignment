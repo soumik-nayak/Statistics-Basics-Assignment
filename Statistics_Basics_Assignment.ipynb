{
  "nbformat": 4,
  "nbformat_minor": 0,
  "metadata": {
    "colab": {
      "provenance": []
    },
    "kernelspec": {
      "name": "python3",
      "display_name": "Python 3"
    },
    "language_info": {
      "name": "python"
    }
  },
  "cells": [
    {
      "cell_type": "markdown",
      "source": [
        "#Statistics Basics Assignment"
      ],
      "metadata": {
        "id": "c1jM9lp7xQxV"
      }
    },
    {
      "cell_type": "markdown",
      "source": [
        "# Q1: Explain the different types of data (qualitative and quantitative) and provide examples of each. Discuss nominal, ordinal, interval, and ratio scales.\n",
        "# A:\n",
        "# Data can be qualitative (categorical) or quantitative (numerical).\n",
        "# Qualitative data describes categories or qualities, e.g., colors (red, blue), types of fruit.\n",
        "# Quantitative data is numerical, e.g., age, height.\n",
        "# - Nominal scale: Categories without order (e.g., gender, eye color).\n",
        "# - Ordinal scale: Ordered categories (e.g., rankings, satisfaction levels).\n",
        "# - Interval scale: Numerical values with equal intervals but no true zero (e.g., temperature in Celsius).\n",
        "# - Ratio scale: Numerical values with a true zero (e.g., weight, height, age).\n",
        "\n",
        "# Q2: What are the measures of central tendency, and when should you use each? Discuss the mean, median, and mode with examples and situations where each is appropriate.\n",
        "# A:\n",
        "# Measures of central tendency summarize a dataset with a single value.\n",
        "# - Mean: The arithmetic average. Use when data is symmetric without extreme outliers. Example: average test score.\n",
        "# - Median: The middle value. Best for skewed data or data with outliers. Example: median income.\n",
        "# - Mode: The most frequent value. Useful for categorical data. Example: most common shoe size sold.\n",
        "\n",
        "# Q3: Explain the concept of dispersion. How do variance and standard deviation measure the spread of data?\n",
        "# A:\n",
        "# Dispersion describes how spread out data values are.\n",
        "# - Variance measures the average squared deviation from the mean. Higher variance means more spread.\n",
        "# - Standard deviation is the square root of variance, showing spread in the same units as the data.\n",
        "# Both indicate how much values differ from the mean.\n",
        "\n",
        "# Q4: What is a box plot, and what can it tell you about the distribution of data?\n",
        "# A:\n",
        "# A box plot is a graphical summary of data showing the median, quartiles, and potential outliers.\n",
        "# It displays the interquartile range (IQR) as the box and whiskers extending to min/max within 1.5*IQR.\n",
        "# It helps visualize skewness, spread, and detect outliers.\n",
        "\n",
        "# Q5: Discuss the role of random sampling in making inferences about populations.\n",
        "# A:\n",
        "# Random sampling ensures every member of a population has an equal chance of selection.\n",
        "# This reduces bias and allows valid inferences about the population from the sample.\n",
        "# It supports generalizability and accurate estimation of population parameters.\n",
        "\n",
        "# Q6: Explain the concept of skewness and its types. How does skewness affect the interpretation of data?\n",
        "# A:\n",
        "# Skewness measures asymmetry in a distribution.\n",
        "# - Positive skew: Tail extends to the right; mean > median.\n",
        "# - Negative skew: Tail extends to the left; mean < median.\n",
        "# Skewness affects interpretation as mean is sensitive to skew, while median is more robust.\n",
        "\n",
        "# Q7: What is the interquartile range (IQR), and how is it used to detect outliers?\n",
        "# A:\n",
        "# IQR = Q3 - Q1, where Q1 and Q3 are the first and third quartiles.\n",
        "# It measures the middle 50% of data.\n",
        "# Outliers are typically defined as values below Q1 - 1.5*IQR or above Q3 + 1.5*IQR.\n",
        "\n",
        "# Q8: Discuss the conditions under which the binomial distribution is used.\n",
        "# A:\n",
        "# Binomial distribution models the number of successes in fixed n independent Bernoulli trials.\n",
        "# Conditions:\n",
        "# - Fixed number of trials.\n",
        "# - Each trial has two outcomes (success/failure).\n",
        "# - Constant probability of success.\n",
        "# - Independent trials.\n",
        "\n",
        "# Q9: Explain the properties of the normal distribution and the empirical rule (68-95-99.7 rule).\n",
        "# A:\n",
        "# Normal distribution is symmetric, bell-shaped, and defined by mean and standard deviation.\n",
        "# Empirical rule states:\n",
        "# - ~68% of data within ±1 SD from mean.\n",
        "# - ~95% within ±2 SD.\n",
        "# - ~99.7% within ±3 SD.\n",
        "# It helps assess spread and identify outliers.\n",
        "\n",
        "# Q10: Provide a real-life example of a Poisson process and calculate the probability for a specific event.\n",
        "# A:\n",
        "# Example: Number of emails received per hour.\n",
        "# Suppose λ = 5 emails/hour.\n",
        "# Probability of exactly 3 emails in an hour:\n",
        "# P(X=3) = (e^-5 * 5^3) / 3! ≈ 0.1404\n",
        "\n",
        "# Q11: Explain what a random variable is and differentiate between discrete and continuous random variables.\n",
        "# A:\n",
        "# A random variable assigns numerical values to outcomes of a random process.\n",
        "# - Discrete: Countable outcomes (e.g., number of heads in coin tosses).\n",
        "# - Continuous: Infinite outcomes in an interval (e.g., height, weight).\n",
        "\n",
        "# Q12: Provide an example dataset, calculate both covariance and correlation, and interpret the results.\n",
        "# A:\n",
        "# Example dataset: X = [1, 2, 3, 4], Y = [2, 4, 6, 8].\n",
        "# Covariance = 2.67 (positive, showing X and Y move together).\n",
        "# Correlation = 1.0 (perfect positive linear relationship).\n",
        "# Interpretation: As X increases, Y increases proportionally.\n"
      ],
      "metadata": {
        "id": "Ob_4fKpnxTfs"
      }
    },
    {
      "cell_type": "markdown",
      "source": [],
      "metadata": {
        "id": "uyt77iozxT69"
      }
    }
  ]
}